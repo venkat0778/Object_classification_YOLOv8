{
 "cells": [
  {
   "cell_type": "code",
   "execution_count": 39,
   "id": "6045a16e-6298-4768-8686-ca8454f5d1c6",
   "metadata": {},
   "outputs": [],
   "source": [
    "import cv2\n",
    "import numpy as np\n",
    "from ultralytics import YOLO\n",
    "import tensorflow\n",
    "import matplotlib.pyplot as plt\n",
    "%matplotlib inline"
   ]
  },
  {
   "cell_type": "code",
   "execution_count": 3,
   "id": "3de0efe2-4e6d-4054-a05c-4c2da8c519c6",
   "metadata": {},
   "outputs": [],
   "source": [
    "import os"
   ]
  },
  {
   "cell_type": "code",
   "execution_count": 6,
   "id": "74ff5d1a-543f-45f8-a175-07ae132626bf",
   "metadata": {},
   "outputs": [],
   "source": [
    "path = '/Users/mohithreddy/Education/Projects/YOLO/Data/train'"
   ]
  },
  {
   "cell_type": "code",
   "execution_count": 7,
   "id": "77fd1b88-1cbe-41b5-a75f-8d6a53d17ecd",
   "metadata": {},
   "outputs": [
    {
     "data": {
      "text/plain": [
       "['Apple',\n",
       " 'Teleavia',\n",
       " 'Technics',\n",
       " 'Lenovo',\n",
       " 'Iiyama',\n",
       " 'Olympus',\n",
       " 'Logitech',\n",
       " 'Contec',\n",
       " 'Intel',\n",
       " 'Vim',\n",
       " 'Calistoga',\n",
       " 'Ilford Photo',\n",
       " 'Leupold',\n",
       " 'Mobotix',\n",
       " 'BTC',\n",
       " 'HTC',\n",
       " 'Honeywell',\n",
       " 'Haier',\n",
       " 'Pantech',\n",
       " 'LIVESCRIBE',\n",
       " 'Amkette',\n",
       " 'Thomson',\n",
       " 'SVA',\n",
       " 'High Point',\n",
       " 'Orbit',\n",
       " 'Gorenje',\n",
       " 'Tunes',\n",
       " 'Hewlett-Packard',\n",
       " 'SPC',\n",
       " 'Compact',\n",
       " 'Sharp Corporation',\n",
       " 'Luxgen',\n",
       " 'Lite-On',\n",
       " 'Hughes & Kettner',\n",
       " '.DS_Store',\n",
       " 'Fram',\n",
       " 'huawei',\n",
       " 'HEC',\n",
       " 'Breaker',\n",
       " 'AERIAL7',\n",
       " 'Asus',\n",
       " 'GoldStar',\n",
       " 'Magnafon',\n",
       " 'hp',\n",
       " 'Nikon',\n",
       " 'Aiptek',\n",
       " 'Acerr',\n",
       " 'ASL',\n",
       " 'AERIAL7.cache',\n",
       " 'Medion',\n",
       " 'Hisense',\n",
       " 'Boses',\n",
       " 'ProLine',\n",
       " 'Kenko',\n",
       " 'MSI',\n",
       " 'Fujitsu',\n",
       " 'Sony Ericsson',\n",
       " 'Acer',\n",
       " 'Grundig',\n",
       " 'Sansui',\n",
       " 'Sinar',\n",
       " 'Microsoft',\n",
       " 'DELONGHI',\n",
       " 'Agfa',\n",
       " 'BBK',\n",
       " 'DEVOLO',\n",
       " 'Toshiba',\n",
       " 'Amoi',\n",
       " 'BLACKBERRY',\n",
       " 'Contour',\n",
       " 'Teletech',\n",
       " 'Sibelius',\n",
       " 'Prima',\n",
       " 'CCE',\n",
       " 'Start',\n",
       " 'TMA',\n",
       " 'samsung',\n",
       " 'Phase One',\n",
       " 'Mud & Bugs',\n",
       " 'Dayton',\n",
       " 'Metz',\n",
       " 'Hypson',\n",
       " 'MediaTek',\n",
       " 'ECS',\n",
       " 'Ricoh',\n",
       " 'SAGEMCOM',\n",
       " 'Sea & Sea',\n",
       " 'Avaya',\n",
       " 'IFR',\n",
       " 'Vive',\n",
       " 'Tab',\n",
       " 'Dell',\n",
       " 'Konica Minolta',\n",
       " 'Contax',\n",
       " 'Planar',\n",
       " 'Universum',\n",
       " 'Amstrad',\n",
       " 'IBM',\n",
       " 'Sakura',\n",
       " 'Transcend',\n",
       " 'Polaroid',\n",
       " 'AMD',\n",
       " 'Walton',\n",
       " 'Blue Star',\n",
       " 'RCA',\n",
       " 'Multitech',\n",
       " 'Marshall',\n",
       " 'Sinclair',\n",
       " 'TCL',\n",
       " 'Bazooka',\n",
       " 'VIT',\n",
       " 'Meopta',\n",
       " 'Santa Rosa',\n",
       " 'Ainol',\n",
       " 'JL Audio',\n",
       " 'Sampo',\n",
       " 'Minolta',\n",
       " 'Bang & Olufsen',\n",
       " 'KINGSTON',\n",
       " 'HCL',\n",
       " 'Philco',\n",
       " 'Currys',\n",
       " 'motorola',\n",
       " 'MOPHIE',\n",
       " 'Leica',\n",
       " 'BCP',\n",
       " 'eMachines',\n",
       " 'Denver',\n",
       " 'Connector',\n",
       " 'D-Link',\n",
       " 'Premier',\n",
       " 'Aya',\n",
       " 'Akai',\n",
       " 'Merrell',\n",
       " 'oppo',\n",
       " 'San',\n",
       " 'Punch',\n",
       " 'Clarion',\n",
       " 'SPECK',\n",
       " 'Trust',\n",
       " 'LifeSize',\n",
       " 'Daewoo Electronics',\n",
       " 'Pioneer',\n",
       " 'Cisco Systems',\n",
       " 'Pentium',\n",
       " 'LG',\n",
       " 'SEG',\n",
       " 'El Dorado',\n",
       " 'National',\n",
       " 'Dawa',\n",
       " 'Digital',\n",
       " 'Astro',\n",
       " 'Arm',\n",
       " 'Seitz',\n",
       " 'Philips',\n",
       " 'Havells',\n",
       " 'Kicker',\n",
       " 'Pathe',\n",
       " 'Jenoptik',\n",
       " 'RBM',\n",
       " 'Vestel',\n",
       " 'BOSE',\n",
       " 'Hitachi',\n",
       " 'IQinVision',\n",
       " 'Andrea Electronics',\n",
       " 'Fujifilm',\n",
       " 'TMB',\n",
       " 'Bayern',\n",
       " 'Calumet',\n",
       " 'Suzuki',\n",
       " 'Sharp',\n",
       " 'Panasonic',\n",
       " 'KEF',\n",
       " 'Telefunken',\n",
       " 'Kapsch',\n",
       " 'GoPro',\n",
       " \"Man O' War\",\n",
       " 'BEATS BY DRE',\n",
       " 'Sanyo',\n",
       " 'Casio',\n",
       " 'Gateway',\n",
       " 'Genius',\n",
       " 'Applek',\n",
       " 'sony',\n",
       " 'Dimension',\n",
       " 'Asusu',\n",
       " 'Kodak',\n",
       " 'Leadtek',\n",
       " 'Cybertron',\n",
       " 'Cooke',\n",
       " 'Mamiya',\n",
       " 'Epson',\n",
       " 'Beacon']"
      ]
     },
     "execution_count": 7,
     "metadata": {},
     "output_type": "execute_result"
    }
   ],
   "source": [
    "os.listdir(path)"
   ]
  },
  {
   "cell_type": "code",
   "execution_count": 4,
   "id": "6ca9a04b-538d-433a-a0f6-d93a4f47c9a2",
   "metadata": {},
   "outputs": [],
   "source": [
    "model= YOLO('yolov8n-cls.pt')\n"
   ]
  },
  {
   "cell_type": "code",
   "execution_count": 12,
   "id": "1a1aaf74-cd3e-48c6-adbd-6f1622adb7c7",
   "metadata": {},
   "outputs": [
    {
     "name": "stdout",
     "output_type": "stream",
     "text": [
      "Ultralytics YOLOv8.2.90 🚀 Python-3.11.7 torch-2.4.0 CPU (Apple M2)\n",
      "\u001b[34m\u001b[1mengine/trainer: \u001b[0mtask=classify, mode=train, model=yolov8n-cls.pt, data=/Users/mohithreddy/Education/Projects/YOLO/Data, epochs=30, time=None, patience=100, batch=16, imgsz=256, save=True, save_period=-1, cache=False, device=None, workers=0, project=None, name=train222, exist_ok=False, pretrained=True, optimizer=auto, verbose=True, seed=0, deterministic=True, single_cls=False, rect=False, cos_lr=False, close_mosaic=10, resume=False, amp=True, fraction=1.0, profile=False, freeze=None, multi_scale=False, overlap_mask=True, mask_ratio=4, dropout=0.0, val=True, split=val, save_json=False, save_hybrid=False, conf=None, iou=0.7, max_det=300, half=False, dnn=False, plots=True, source=None, vid_stride=1, stream_buffer=False, visualize=False, augment=False, agnostic_nms=False, classes=None, retina_masks=False, embed=None, show=False, save_frames=False, save_txt=False, save_conf=False, save_crop=False, show_labels=True, show_conf=True, show_boxes=True, line_width=None, format=torchscript, keras=False, optimize=False, int8=False, dynamic=False, simplify=False, opset=None, workspace=4, nms=False, lr0=0.01, lrf=0.01, momentum=0.937, weight_decay=0.0005, warmup_epochs=3.0, warmup_momentum=0.8, warmup_bias_lr=0.0, box=7.5, cls=0.5, dfl=1.5, pose=12.0, kobj=1.0, label_smoothing=0.0, nbs=64, hsv_h=0.015, hsv_s=0.7, hsv_v=0.4, degrees=0.0, translate=0.1, scale=0.5, shear=0.0, perspective=0.0, flipud=0.0, fliplr=0.5, bgr=0.0, mosaic=1.0, mixup=0.0, copy_paste=0.0, auto_augment=randaugment, erasing=0.4, crop_fraction=1.0, cfg=None, tracker=botsort.yaml, save_dir=runs/classify/train222\n",
      "\u001b[34m\u001b[1mtrain:\u001b[0m /Users/mohithreddy/Education/Projects/YOLO/Data/train... found 9701 images in 191 classes ✅ \n",
      "\u001b[34m\u001b[1mval:\u001b[0m None...\n",
      "\u001b[34m\u001b[1mtest:\u001b[0m /Users/mohithreddy/Education/Projects/YOLO/Data/test... found 4271 images in 191 classes ✅ \n",
      "\n",
      "                   from  n    params  module                                       arguments                     \n",
      "  0                  -1  1       464  ultralytics.nn.modules.conv.Conv             [3, 16, 3, 2]                 \n",
      "  1                  -1  1      4672  ultralytics.nn.modules.conv.Conv             [16, 32, 3, 2]                \n",
      "  2                  -1  1      7360  ultralytics.nn.modules.block.C2f             [32, 32, 1, True]             \n",
      "  3                  -1  1     18560  ultralytics.nn.modules.conv.Conv             [32, 64, 3, 2]                \n",
      "  4                  -1  2     49664  ultralytics.nn.modules.block.C2f             [64, 64, 2, True]             \n",
      "  5                  -1  1     73984  ultralytics.nn.modules.conv.Conv             [64, 128, 3, 2]               \n",
      "  6                  -1  2    197632  ultralytics.nn.modules.block.C2f             [128, 128, 2, True]           \n",
      "  7                  -1  1    295424  ultralytics.nn.modules.conv.Conv             [128, 256, 3, 2]              \n",
      "  8                  -1  1    460288  ultralytics.nn.modules.block.C2f             [256, 256, 1, True]           \n",
      "  9                  -1  1    574911  ultralytics.nn.modules.head.Classify         [256, 191]                    \n",
      "YOLOv8n-cls summary: 99 layers, 1,682,959 parameters, 1,682,959 gradients, 3.6 GFLOPs\n",
      "Transferred 158/158 items from pretrained weights\n"
     ]
    },
    {
     "name": "stderr",
     "output_type": "stream",
     "text": [
      "\u001b[34m\u001b[1mtrain: \u001b[0mScanning /Users/mohithreddy/Education/Projects/YOLO/Data/train... 9701 im\u001b[0m\n",
      "\u001b[34m\u001b[1mval: \u001b[0mScanning /Users/mohithreddy/Education/Projects/YOLO/Data/test... 4271 image\u001b[0m"
     ]
    },
    {
     "name": "stdout",
     "output_type": "stream",
     "text": [
      "\u001b[34m\u001b[1moptimizer:\u001b[0m 'optimizer=auto' found, ignoring 'lr0=0.01' and 'momentum=0.937' and determining best 'optimizer', 'lr0' and 'momentum' automatically... \n",
      "\u001b[34m\u001b[1moptimizer:\u001b[0m AdamW(lr=0.000714, momentum=0.9) with parameter groups 26 weight(decay=0.0), 27 weight(decay=0.0005), 27 bias(decay=0.0)\n",
      "Image sizes 256 train, 256 val\n",
      "Using 0 dataloader workers\n",
      "Logging results to \u001b[1mruns/classify/train222\u001b[0m\n",
      "Starting training for 30 epochs...\n",
      "\n",
      "      Epoch    GPU_mem       loss  Instances       Size\n"
     ]
    },
    {
     "name": "stderr",
     "output_type": "stream",
     "text": [
      "\n",
      "       1/30         0G      1.224          5        256: 100%|██████████| 607/60\n",
      "               classes   top1_acc   top5_acc: 100%|██████████| 134/134 [01:05<00"
     ]
    },
    {
     "name": "stdout",
     "output_type": "stream",
     "text": [
      "                   all      0.627      0.788\n"
     ]
    },
    {
     "name": "stderr",
     "output_type": "stream",
     "text": [
      "\n"
     ]
    },
    {
     "name": "stdout",
     "output_type": "stream",
     "text": [
      "\n",
      "      Epoch    GPU_mem       loss  Instances       Size\n"
     ]
    },
    {
     "name": "stderr",
     "output_type": "stream",
     "text": [
      "       2/30         0G      1.325          5        256: 100%|██████████| 607/60\n",
      "               classes   top1_acc   top5_acc: 100%|██████████| 134/134 [01:05<00"
     ]
    },
    {
     "name": "stdout",
     "output_type": "stream",
     "text": [
      "                   all      0.611      0.782\n"
     ]
    },
    {
     "name": "stderr",
     "output_type": "stream",
     "text": [
      "\n"
     ]
    },
    {
     "name": "stdout",
     "output_type": "stream",
     "text": [
      "\n",
      "      Epoch    GPU_mem       loss  Instances       Size\n"
     ]
    },
    {
     "name": "stderr",
     "output_type": "stream",
     "text": [
      "       3/30         0G      1.341          5        256: 100%|██████████| 607/60\n",
      "               classes   top1_acc   top5_acc: 100%|██████████| 134/134 [00:58<00"
     ]
    },
    {
     "name": "stdout",
     "output_type": "stream",
     "text": [
      "                   all       0.62      0.782\n"
     ]
    },
    {
     "name": "stderr",
     "output_type": "stream",
     "text": [
      "\n"
     ]
    },
    {
     "name": "stdout",
     "output_type": "stream",
     "text": [
      "\n",
      "      Epoch    GPU_mem       loss  Instances       Size\n"
     ]
    },
    {
     "name": "stderr",
     "output_type": "stream",
     "text": [
      "       4/30         0G      1.258          5        256: 100%|██████████| 607/60\n",
      "               classes   top1_acc   top5_acc: 100%|██████████| 134/134 [01:00<00"
     ]
    },
    {
     "name": "stdout",
     "output_type": "stream",
     "text": [
      "                   all       0.64      0.802\n"
     ]
    },
    {
     "name": "stderr",
     "output_type": "stream",
     "text": [
      "\n"
     ]
    },
    {
     "name": "stdout",
     "output_type": "stream",
     "text": [
      "\n",
      "      Epoch    GPU_mem       loss  Instances       Size\n"
     ]
    },
    {
     "name": "stderr",
     "output_type": "stream",
     "text": [
      "       5/30         0G      1.131          5        256: 100%|██████████| 607/60\n",
      "               classes   top1_acc   top5_acc: 100%|██████████| 134/134 [00:58<00"
     ]
    },
    {
     "name": "stdout",
     "output_type": "stream",
     "text": [
      "                   all      0.654      0.803\n"
     ]
    },
    {
     "name": "stderr",
     "output_type": "stream",
     "text": [
      "\n"
     ]
    },
    {
     "name": "stdout",
     "output_type": "stream",
     "text": [
      "\n",
      "      Epoch    GPU_mem       loss  Instances       Size\n"
     ]
    },
    {
     "name": "stderr",
     "output_type": "stream",
     "text": [
      "       6/30         0G      1.045          5        256: 100%|██████████| 607/60\n",
      "               classes   top1_acc   top5_acc: 100%|██████████| 134/134 [01:04<00"
     ]
    },
    {
     "name": "stdout",
     "output_type": "stream",
     "text": [
      "                   all      0.649      0.811\n"
     ]
    },
    {
     "name": "stderr",
     "output_type": "stream",
     "text": [
      "\n"
     ]
    },
    {
     "name": "stdout",
     "output_type": "stream",
     "text": [
      "\n",
      "      Epoch    GPU_mem       loss  Instances       Size\n"
     ]
    },
    {
     "name": "stderr",
     "output_type": "stream",
     "text": [
      "       7/30         0G     0.9581          5        256: 100%|██████████| 607/60\n",
      "               classes   top1_acc   top5_acc: 100%|██████████| 134/134 [01:08<00"
     ]
    },
    {
     "name": "stdout",
     "output_type": "stream",
     "text": [
      "                   all      0.648      0.812\n"
     ]
    },
    {
     "name": "stderr",
     "output_type": "stream",
     "text": [
      "\n"
     ]
    },
    {
     "name": "stdout",
     "output_type": "stream",
     "text": [
      "\n",
      "      Epoch    GPU_mem       loss  Instances       Size\n"
     ]
    },
    {
     "name": "stderr",
     "output_type": "stream",
     "text": [
      "       8/30         0G     0.8752          5        256: 100%|██████████| 607/60\n",
      "               classes   top1_acc   top5_acc: 100%|██████████| 134/134 [01:03<00"
     ]
    },
    {
     "name": "stdout",
     "output_type": "stream",
     "text": [
      "                   all      0.652      0.812\n"
     ]
    },
    {
     "name": "stderr",
     "output_type": "stream",
     "text": [
      "\n"
     ]
    },
    {
     "name": "stdout",
     "output_type": "stream",
     "text": [
      "\n",
      "      Epoch    GPU_mem       loss  Instances       Size\n"
     ]
    },
    {
     "name": "stderr",
     "output_type": "stream",
     "text": [
      "       9/30         0G       0.82          5        256: 100%|██████████| 607/60\n",
      "               classes   top1_acc   top5_acc: 100%|██████████| 134/134 [01:02<00"
     ]
    },
    {
     "name": "stdout",
     "output_type": "stream",
     "text": [
      "                   all      0.661      0.819\n"
     ]
    },
    {
     "name": "stderr",
     "output_type": "stream",
     "text": [
      "\n"
     ]
    },
    {
     "name": "stdout",
     "output_type": "stream",
     "text": [
      "\n",
      "      Epoch    GPU_mem       loss  Instances       Size\n"
     ]
    },
    {
     "name": "stderr",
     "output_type": "stream",
     "text": [
      "      10/30         0G     0.7684          5        256: 100%|██████████| 607/60\n",
      "               classes   top1_acc   top5_acc: 100%|██████████| 134/134 [16:35<00"
     ]
    },
    {
     "name": "stdout",
     "output_type": "stream",
     "text": [
      "                   all      0.678      0.824\n"
     ]
    },
    {
     "name": "stderr",
     "output_type": "stream",
     "text": [
      "\n"
     ]
    },
    {
     "name": "stdout",
     "output_type": "stream",
     "text": [
      "\n",
      "      Epoch    GPU_mem       loss  Instances       Size\n"
     ]
    },
    {
     "name": "stderr",
     "output_type": "stream",
     "text": [
      "      11/30         0G     0.7118          5        256: 100%|██████████| 607/60\n",
      "               classes   top1_acc   top5_acc: 100%|██████████| 134/134 [00:59<00"
     ]
    },
    {
     "name": "stdout",
     "output_type": "stream",
     "text": [
      "                   all      0.667      0.821\n"
     ]
    },
    {
     "name": "stderr",
     "output_type": "stream",
     "text": [
      "\n"
     ]
    },
    {
     "name": "stdout",
     "output_type": "stream",
     "text": [
      "\n",
      "      Epoch    GPU_mem       loss  Instances       Size\n"
     ]
    },
    {
     "name": "stderr",
     "output_type": "stream",
     "text": [
      "      12/30         0G     0.6781          5        256: 100%|██████████| 607/60\n",
      "               classes   top1_acc   top5_acc: 100%|██████████| 134/134 [01:03<00"
     ]
    },
    {
     "name": "stdout",
     "output_type": "stream",
     "text": [
      "                   all      0.672       0.83\n"
     ]
    },
    {
     "name": "stderr",
     "output_type": "stream",
     "text": [
      "\n"
     ]
    },
    {
     "name": "stdout",
     "output_type": "stream",
     "text": [
      "\n",
      "      Epoch    GPU_mem       loss  Instances       Size\n"
     ]
    },
    {
     "name": "stderr",
     "output_type": "stream",
     "text": [
      "      13/30         0G     0.6294          5        256: 100%|██████████| 607/60\n",
      "               classes   top1_acc   top5_acc: 100%|██████████| 134/134 [01:05<00"
     ]
    },
    {
     "name": "stdout",
     "output_type": "stream",
     "text": [
      "                   all      0.672      0.829\n"
     ]
    },
    {
     "name": "stderr",
     "output_type": "stream",
     "text": [
      "\n"
     ]
    },
    {
     "name": "stdout",
     "output_type": "stream",
     "text": [
      "\n",
      "      Epoch    GPU_mem       loss  Instances       Size\n"
     ]
    },
    {
     "name": "stderr",
     "output_type": "stream",
     "text": [
      "      14/30         0G     0.5714          5        256: 100%|██████████| 607/60\n",
      "               classes   top1_acc   top5_acc: 100%|██████████| 134/134 [01:06<00"
     ]
    },
    {
     "name": "stdout",
     "output_type": "stream",
     "text": [
      "                   all      0.682      0.832\n"
     ]
    },
    {
     "name": "stderr",
     "output_type": "stream",
     "text": [
      "\n"
     ]
    },
    {
     "name": "stdout",
     "output_type": "stream",
     "text": [
      "\n",
      "      Epoch    GPU_mem       loss  Instances       Size\n"
     ]
    },
    {
     "name": "stderr",
     "output_type": "stream",
     "text": [
      "      15/30         0G     0.5414          5        256: 100%|██████████| 607/60\n",
      "               classes   top1_acc   top5_acc: 100%|██████████| 134/134 [01:07<00"
     ]
    },
    {
     "name": "stdout",
     "output_type": "stream",
     "text": [
      "                   all      0.679      0.827\n"
     ]
    },
    {
     "name": "stderr",
     "output_type": "stream",
     "text": [
      "\n"
     ]
    },
    {
     "name": "stdout",
     "output_type": "stream",
     "text": [
      "\n",
      "      Epoch    GPU_mem       loss  Instances       Size\n"
     ]
    },
    {
     "name": "stderr",
     "output_type": "stream",
     "text": [
      "      16/30         0G     0.5129          5        256: 100%|██████████| 607/60\n",
      "               classes   top1_acc   top5_acc: 100%|██████████| 134/134 [16:11<00"
     ]
    },
    {
     "name": "stdout",
     "output_type": "stream",
     "text": [
      "                   all      0.678       0.83\n"
     ]
    },
    {
     "name": "stderr",
     "output_type": "stream",
     "text": [
      "\n"
     ]
    },
    {
     "name": "stdout",
     "output_type": "stream",
     "text": [
      "\n",
      "      Epoch    GPU_mem       loss  Instances       Size\n"
     ]
    },
    {
     "name": "stderr",
     "output_type": "stream",
     "text": [
      "      17/30         0G     0.4965          5        256: 100%|██████████| 607/60\n",
      "               classes   top1_acc   top5_acc: 100%|██████████| 134/134 [00:58<00"
     ]
    },
    {
     "name": "stdout",
     "output_type": "stream",
     "text": [
      "                   all      0.682      0.834\n"
     ]
    },
    {
     "name": "stderr",
     "output_type": "stream",
     "text": [
      "\n"
     ]
    },
    {
     "name": "stdout",
     "output_type": "stream",
     "text": [
      "\n",
      "      Epoch    GPU_mem       loss  Instances       Size\n"
     ]
    },
    {
     "name": "stderr",
     "output_type": "stream",
     "text": [
      "      18/30         0G     0.4703          5        256: 100%|██████████| 607/60\n",
      "               classes   top1_acc   top5_acc: 100%|██████████| 134/134 [01:02<00"
     ]
    },
    {
     "name": "stdout",
     "output_type": "stream",
     "text": [
      "                   all      0.687      0.831\n"
     ]
    },
    {
     "name": "stderr",
     "output_type": "stream",
     "text": [
      "\n"
     ]
    },
    {
     "name": "stdout",
     "output_type": "stream",
     "text": [
      "\n",
      "      Epoch    GPU_mem       loss  Instances       Size\n"
     ]
    },
    {
     "name": "stderr",
     "output_type": "stream",
     "text": [
      "      19/30         0G      0.444          5        256: 100%|██████████| 607/60\n",
      "               classes   top1_acc   top5_acc: 100%|██████████| 134/134 [00:59<00"
     ]
    },
    {
     "name": "stdout",
     "output_type": "stream",
     "text": [
      "                   all      0.683      0.838\n"
     ]
    },
    {
     "name": "stderr",
     "output_type": "stream",
     "text": [
      "\n"
     ]
    },
    {
     "name": "stdout",
     "output_type": "stream",
     "text": [
      "\n",
      "      Epoch    GPU_mem       loss  Instances       Size\n"
     ]
    },
    {
     "name": "stderr",
     "output_type": "stream",
     "text": [
      "      20/30         0G     0.4131          5        256: 100%|██████████| 607/60\n",
      "               classes   top1_acc   top5_acc: 100%|██████████| 134/134 [01:00<00"
     ]
    },
    {
     "name": "stdout",
     "output_type": "stream",
     "text": [
      "                   all      0.687      0.835\n"
     ]
    },
    {
     "name": "stderr",
     "output_type": "stream",
     "text": [
      "\n"
     ]
    },
    {
     "name": "stdout",
     "output_type": "stream",
     "text": [
      "\n",
      "      Epoch    GPU_mem       loss  Instances       Size\n"
     ]
    },
    {
     "name": "stderr",
     "output_type": "stream",
     "text": [
      "      21/30         0G     0.4067          5        256: 100%|██████████| 607/60\n",
      "               classes   top1_acc   top5_acc: 100%|██████████| 134/134 [00:59<00"
     ]
    },
    {
     "name": "stdout",
     "output_type": "stream",
     "text": [
      "                   all      0.687      0.836\n"
     ]
    },
    {
     "name": "stderr",
     "output_type": "stream",
     "text": [
      "\n"
     ]
    },
    {
     "name": "stdout",
     "output_type": "stream",
     "text": [
      "\n",
      "      Epoch    GPU_mem       loss  Instances       Size\n"
     ]
    },
    {
     "name": "stderr",
     "output_type": "stream",
     "text": [
      "      22/30         0G     0.3767          5        256: 100%|██████████| 607/60\n",
      "               classes   top1_acc   top5_acc: 100%|██████████| 134/134 [01:03<00"
     ]
    },
    {
     "name": "stdout",
     "output_type": "stream",
     "text": [
      "                   all      0.692      0.841\n"
     ]
    },
    {
     "name": "stderr",
     "output_type": "stream",
     "text": [
      "\n"
     ]
    },
    {
     "name": "stdout",
     "output_type": "stream",
     "text": [
      "\n",
      "      Epoch    GPU_mem       loss  Instances       Size\n"
     ]
    },
    {
     "name": "stderr",
     "output_type": "stream",
     "text": [
      "      23/30         0G     0.3626          5        256: 100%|██████████| 607/60\n",
      "               classes   top1_acc   top5_acc: 100%|██████████| 134/134 [01:00<00"
     ]
    },
    {
     "name": "stdout",
     "output_type": "stream",
     "text": [
      "                   all      0.698      0.835\n"
     ]
    },
    {
     "name": "stderr",
     "output_type": "stream",
     "text": [
      "\n"
     ]
    },
    {
     "name": "stdout",
     "output_type": "stream",
     "text": [
      "\n",
      "      Epoch    GPU_mem       loss  Instances       Size\n"
     ]
    },
    {
     "name": "stderr",
     "output_type": "stream",
     "text": [
      "      24/30         0G     0.3649          5        256: 100%|██████████| 607/60\n",
      "               classes   top1_acc   top5_acc: 100%|██████████| 134/134 [01:14<00"
     ]
    },
    {
     "name": "stdout",
     "output_type": "stream",
     "text": [
      "                   all      0.693       0.84\n"
     ]
    },
    {
     "name": "stderr",
     "output_type": "stream",
     "text": [
      "\n"
     ]
    },
    {
     "name": "stdout",
     "output_type": "stream",
     "text": [
      "\n",
      "      Epoch    GPU_mem       loss  Instances       Size\n"
     ]
    },
    {
     "name": "stderr",
     "output_type": "stream",
     "text": [
      "      25/30         0G     0.3314          5        256: 100%|██████████| 607/60\n",
      "               classes   top1_acc   top5_acc: 100%|██████████| 134/134 [01:08<00"
     ]
    },
    {
     "name": "stdout",
     "output_type": "stream",
     "text": [
      "                   all       0.69      0.839\n"
     ]
    },
    {
     "name": "stderr",
     "output_type": "stream",
     "text": [
      "\n"
     ]
    },
    {
     "name": "stdout",
     "output_type": "stream",
     "text": [
      "\n",
      "      Epoch    GPU_mem       loss  Instances       Size\n"
     ]
    },
    {
     "name": "stderr",
     "output_type": "stream",
     "text": [
      "      26/30         0G     0.3447          5        256: 100%|██████████| 607/60\n",
      "               classes   top1_acc   top5_acc: 100%|██████████| 134/134 [01:04<00"
     ]
    },
    {
     "name": "stdout",
     "output_type": "stream",
     "text": [
      "                   all       0.69      0.838\n"
     ]
    },
    {
     "name": "stderr",
     "output_type": "stream",
     "text": [
      "\n"
     ]
    },
    {
     "name": "stdout",
     "output_type": "stream",
     "text": [
      "\n",
      "      Epoch    GPU_mem       loss  Instances       Size\n"
     ]
    },
    {
     "name": "stderr",
     "output_type": "stream",
     "text": [
      "      27/30         0G     0.3083          5        256: 100%|██████████| 607/60\n",
      "               classes   top1_acc   top5_acc: 100%|██████████| 134/134 [01:07<00"
     ]
    },
    {
     "name": "stdout",
     "output_type": "stream",
     "text": [
      "                   all      0.687      0.838\n"
     ]
    },
    {
     "name": "stderr",
     "output_type": "stream",
     "text": [
      "\n"
     ]
    },
    {
     "name": "stdout",
     "output_type": "stream",
     "text": [
      "\n",
      "      Epoch    GPU_mem       loss  Instances       Size\n"
     ]
    },
    {
     "name": "stderr",
     "output_type": "stream",
     "text": [
      "      28/30         0G     0.2983          5        256: 100%|██████████| 607/60\n",
      "               classes   top1_acc   top5_acc: 100%|██████████| 134/134 [01:01<00"
     ]
    },
    {
     "name": "stdout",
     "output_type": "stream",
     "text": [
      "                   all      0.694      0.842\n"
     ]
    },
    {
     "name": "stderr",
     "output_type": "stream",
     "text": [
      "\n"
     ]
    },
    {
     "name": "stdout",
     "output_type": "stream",
     "text": [
      "\n",
      "      Epoch    GPU_mem       loss  Instances       Size\n"
     ]
    },
    {
     "name": "stderr",
     "output_type": "stream",
     "text": [
      "      29/30         0G     0.2832          5        256: 100%|██████████| 607/60\n",
      "               classes   top1_acc   top5_acc: 100%|██████████| 134/134 [01:08<00"
     ]
    },
    {
     "name": "stdout",
     "output_type": "stream",
     "text": [
      "                   all        0.7      0.842\n"
     ]
    },
    {
     "name": "stderr",
     "output_type": "stream",
     "text": [
      "\n"
     ]
    },
    {
     "name": "stdout",
     "output_type": "stream",
     "text": [
      "\n",
      "      Epoch    GPU_mem       loss  Instances       Size\n"
     ]
    },
    {
     "name": "stderr",
     "output_type": "stream",
     "text": [
      "      30/30         0G     0.2798          5        256: 100%|██████████| 607/60\n",
      "               classes   top1_acc   top5_acc: 100%|██████████| 134/134 [01:06<00"
     ]
    },
    {
     "name": "stdout",
     "output_type": "stream",
     "text": [
      "                   all      0.695      0.844\n"
     ]
    },
    {
     "name": "stderr",
     "output_type": "stream",
     "text": [
      "\n"
     ]
    },
    {
     "name": "stdout",
     "output_type": "stream",
     "text": [
      "\n",
      "30 epochs completed in 6.484 hours.\n",
      "Optimizer stripped from runs/classify/train222/weights/last.pt, 3.5MB\n",
      "Optimizer stripped from runs/classify/train222/weights/best.pt, 3.5MB\n",
      "\n",
      "Validating runs/classify/train222/weights/best.pt...\n",
      "Ultralytics YOLOv8.2.90 🚀 Python-3.11.7 torch-2.4.0 CPU (Apple M2)\n",
      "YOLOv8n-cls summary (fused): 73 layers, 1,679,551 parameters, 0 gradients, 3.5 GFLOPs\n",
      "WARNING ⚠️ Dataset 'split=val' not found, using 'split=test' instead.\n",
      "\u001b[34m\u001b[1mtrain:\u001b[0m /Users/mohithreddy/Education/Projects/YOLO/Data/train... found 9701 images in 191 classes ✅ \n",
      "\u001b[34m\u001b[1mval:\u001b[0m None...\n",
      "\u001b[34m\u001b[1mtest:\u001b[0m /Users/mohithreddy/Education/Projects/YOLO/Data/test... found 4271 images in 191 classes ✅ \n"
     ]
    },
    {
     "name": "stderr",
     "output_type": "stream",
     "text": [
      "               classes   top1_acc   top5_acc: 100%|██████████| 134/134 [01:06<00\n"
     ]
    },
    {
     "name": "stdout",
     "output_type": "stream",
     "text": [
      "                   all        0.7      0.842\n",
      "Speed: 0.0ms preprocess, 14.3ms inference, 0.0ms loss, 0.0ms postprocess per image\n",
      "Results saved to \u001b[1mruns/classify/train222\u001b[0m\n",
      "Results saved to \u001b[1mruns/classify/train222\u001b[0m\n"
     ]
    }
   ],
   "source": [
    "config_file = os.path.join(os.getcwd())\n",
    "results = model.train(data = config_file, epochs=30,imgsz = 256)"
   ]
  },
  {
   "cell_type": "code",
   "execution_count": 25,
   "id": "1b007afa-1f09-44c0-826d-191f188b5b12",
   "metadata": {},
   "outputs": [],
   "source": [
    "result_model_path = os.path.join(os.getcwd(),\"runs\",\"classify\",\"train222\",\"weights\",\"best.pt\")\n",
    "model_predict = YOLO(result_model_path)"
   ]
  },
  {
   "cell_type": "code",
   "execution_count": 53,
   "id": "b7667f61-9509-48d1-b404-a535d803f760",
   "metadata": {},
   "outputs": [],
   "source": [
    "image_path = '/Users/mohithreddy/Education/Projects/YOLO/Data/test/Leica/80.jpg'"
   ]
  },
  {
   "cell_type": "code",
   "execution_count": 48,
   "id": "ec6cb05c-0900-402f-b70f-db96273e5527",
   "metadata": {},
   "outputs": [
    {
     "data": {
      "image/png": "[encoded data removed]",
      "text/plain": [
       "<Figure size 640x480 with 1 Axes>"
      ]
     },
     "metadata": {},
     "output_type": "display_data"
    },
    {
     "name": "stdout",
     "output_type": "stream",
     "text": [
      "ultralytics.engine.results.Results object with attributes:\n",
      "\n",
      "boxes: None\n",
      "keypoints: None\n",
      "masks: None\n",
      "names: {0: 'AERIAL7', 1: 'AMD', 2: 'ASL', 3: 'Acer', 4: 'Acerr', 5: 'Agfa', 6: 'Ainol', 7: 'Aiptek', 8: 'Akai', 9: 'Amkette', 10: 'Amoi', 11: 'Amstrad', 12: 'Andrea Electronics', 13: 'Apple', 14: 'Applek', 15: 'Arm', 16: 'Astro', 17: 'Asus', 18: 'Asusu', 19: 'Avaya', 20: 'Aya', 21: 'BBK', 22: 'BCP', 23: 'BEATS BY DRE', 24: 'BLACKBERRY', 25: 'BOSE', 26: 'BTC', 27: 'Bang & Olufsen', 28: 'Bayern', 29: 'Bazooka', 30: 'Beacon', 31: 'Blue Star', 32: 'Boses', 33: 'Breaker', 34: 'CCE', 35: 'Calistoga', 36: 'Calumet', 37: 'Casio', 38: 'Cisco Systems', 39: 'Clarion', 40: 'Compact', 41: 'Connector', 42: 'Contax', 43: 'Contec', 44: 'Contour', 45: 'Cooke', 46: 'Currys', 47: 'Cybertron', 48: 'D-Link', 49: 'DELONGHI', 50: 'DEVOLO', 51: 'Daewoo Electronics', 52: 'Dawa', 53: 'Dayton', 54: 'Dell', 55: 'Denver', 56: 'Digital', 57: 'Dimension', 58: 'ECS', 59: 'El Dorado', 60: 'Epson', 61: 'Fram', 62: 'Fujifilm', 63: 'Fujitsu', 64: 'Gateway', 65: 'Genius', 66: 'GoPro', 67: 'GoldStar', 68: 'Gorenje', 69: 'Grundig', 70: 'HCL', 71: 'HEC', 72: 'HTC', 73: 'Haier', 74: 'Havells', 75: 'Hewlett-Packard', 76: 'High Point', 77: 'Hisense', 78: 'Hitachi', 79: 'Honeywell', 80: 'Hughes & Kettner', 81: 'Hypson', 82: 'IBM', 83: 'IFR', 84: 'IQinVision', 85: 'Iiyama', 86: 'Ilford Photo', 87: 'Intel', 88: 'JL Audio', 89: 'Jenoptik', 90: 'KEF', 91: 'KINGSTON', 92: 'Kapsch', 93: 'Kenko', 94: 'Kicker', 95: 'Kodak', 96: 'Konica Minolta', 97: 'LG', 98: 'LIVESCRIBE', 99: 'Leadtek', 100: 'Leica', 101: 'Lenovo', 102: 'Leupold', 103: 'LifeSize', 104: 'Lite-On', 105: 'Logitech', 106: 'Luxgen', 107: 'MOPHIE', 108: 'MSI', 109: 'Magnafon', 110: 'Mamiya', 111: \"Man O' War\", 112: 'Marshall', 113: 'MediaTek', 114: 'Medion', 115: 'Meopta', 116: 'Merrell', 117: 'Metz', 118: 'Microsoft', 119: 'Minolta', 120: 'Mobotix', 121: 'Mud & Bugs', 122: 'Multitech', 123: 'National', 124: 'Nikon', 125: 'Olympus', 126: 'Orbit', 127: 'Panasonic', 128: 'Pantech', 129: 'Pathe', 130: 'Pentium', 131: 'Phase One', 132: 'Philco', 133: 'Philips', 134: 'Pioneer', 135: 'Planar', 136: 'Polaroid', 137: 'Premier', 138: 'Prima', 139: 'ProLine', 140: 'Punch', 141: 'RBM', 142: 'RCA', 143: 'Ricoh', 144: 'SAGEMCOM', 145: 'SEG', 146: 'SPC', 147: 'SPECK', 148: 'SVA', 149: 'Sakura', 150: 'Sampo', 151: 'San', 152: 'Sansui', 153: 'Santa Rosa', 154: 'Sanyo', 155: 'Sea & Sea', 156: 'Seitz', 157: 'Sharp', 158: 'Sharp Corporation', 159: 'Sibelius', 160: 'Sinar', 161: 'Sinclair', 162: 'Sony Ericsson', 163: 'Start', 164: 'Suzuki', 165: 'TCL', 166: 'TMA', 167: 'TMB', 168: 'Tab', 169: 'Technics', 170: 'Teleavia', 171: 'Telefunken', 172: 'Teletech', 173: 'Thomson', 174: 'Toshiba', 175: 'Transcend', 176: 'Trust', 177: 'Tunes', 178: 'Universum', 179: 'VIT', 180: 'Vestel', 181: 'Vim', 182: 'Vive', 183: 'Walton', 184: 'eMachines', 185: 'hp', 186: 'huawei', 187: 'motorola', 188: 'oppo', 189: 'samsung', 190: 'sony'}\n",
      "obb: None\n",
      "orig_img: array([[[0, 0, 0],\n",
      "        [0, 0, 0],\n",
      "        [0, 0, 0],\n",
      "        ...,\n",
      "        [0, 0, 0],\n",
      "        [0, 0, 0],\n",
      "        [0, 0, 0]],\n",
      "\n",
      "       [[0, 0, 0],\n",
      "        [0, 0, 0],\n",
      "        [0, 0, 0],\n",
      "        ...,\n",
      "        [0, 0, 0],\n",
      "        [0, 0, 0],\n",
      "        [0, 0, 0]],\n",
      "\n",
      "       [[0, 0, 0],\n",
      "        [0, 0, 0],\n",
      "        [0, 0, 0],\n",
      "        ...,\n",
      "        [0, 0, 0],\n",
      "        [0, 0, 0],\n",
      "        [0, 0, 0]],\n",
      "\n",
      "       ...,\n",
      "\n",
      "       [[0, 0, 0],\n",
      "        [0, 0, 0],\n",
      "        [0, 0, 0],\n",
      "        ...,\n",
      "        [0, 0, 0],\n",
      "        [0, 0, 0],\n",
      "        [0, 0, 0]],\n",
      "\n",
      "       [[0, 0, 0],\n",
      "        [0, 0, 0],\n",
      "        [0, 0, 0],\n",
      "        ...,\n",
      "        [0, 0, 0],\n",
      "        [0, 0, 0],\n",
      "        [0, 0, 0]],\n",
      "\n",
      "       [[0, 0, 0],\n",
      "        [0, 0, 0],\n",
      "        [0, 0, 0],\n",
      "        ...,\n",
      "        [0, 0, 0],\n",
      "        [0, 0, 0],\n",
      "        [0, 0, 0]]], dtype=uint8)\n",
      "orig_shape: (256, 256)\n",
      "path: 'image0.jpg'\n",
      "probs: ultralytics.engine.results.Probs object\n",
      "save_dir: None\n",
      "speed: {'preprocess': 2.4709701538085938, 'inference': 19.855976104736328, 'postprocess': 0.03600120544433594}\n",
      "Shape of probs: (191,)\n",
      "Predicted class index: 66\n",
      "Confidence (max probability): 0.994822\n"
     ]
    }
   ],
   "source": [
    "image = cv2.imread(image_path)\n",
    "\n",
    "image_rgb = cv2.cvtColor(image, cv2.COLOR_BGR2RGB)  # Convert to RGB for proper color display\n",
    "\n",
    "\n",
    "plt.imshow(image_rgb)\n",
    "plt.show()\n",
    "# Run inference\n",
    "results = model(image_rgb,verbose=False)  # Inference on the image\n",
    "labels = results[0].names\n",
    "print(results[0])\n",
    "value = np.argmax(results[0].probs.data.cpu().numpy())\n",
    "#print(value,labels[value],max(result[0].probs.data.cpu().numpy()))\n",
    "\n",
    "probs = results[0].probs\n",
    "\n",
    "# Convert the tensor to a NumPy array\n",
    "probs_np = probs.data.cpu().numpy()\n",
    "\n",
    "# Check the shape of the array\n",
    "print(\"Shape of probs:\", probs_np.shape)\n",
    "\n",
    "# Handle if the array is 0-dimensional\n",
    "if probs_np.ndim == 0:\n",
    "    # If it's a 0-d array, just use the single value as confidence\n",
    "    confidence = probs_np.item()  # Extracts the value from the 0-d array\n",
    "    print(\"Confidence (single value):\", confidence)\n",
    "else:\n",
    "    # If it's multi-dimensional, calculate the argmax and get the confidence\n",
    "    value = np.argmax(probs_np)\n",
    "    confidence = np.max(probs_np)  # Maximum value in the array\n",
    "    print(\"Predicted class index:\", value)\n",
    "    print(\"Confidence (max probability):\", confidence)\n",
    "        \n"
   ]
  },
  {
   "cell_type": "code",
   "execution_count": 54,
   "id": "25fa79e6-cc50-4315-8dac-7e0cac95567a",
   "metadata": {},
   "outputs": [
    {
     "name": "stdout",
     "output_type": "stream",
     "text": [
      "ultralytics.engine.results.Results object with attributes:\n",
      "\n",
      "boxes: None\n",
      "keypoints: None\n",
      "masks: None\n",
      "names: {0: 'AERIAL7', 1: 'AMD', 2: 'ASL', 3: 'Acer', 4: 'Acerr', 5: 'Agfa', 6: 'Ainol', 7: 'Aiptek', 8: 'Akai', 9: 'Amkette', 10: 'Amoi', 11: 'Amstrad', 12: 'Andrea Electronics', 13: 'Apple', 14: 'Applek', 15: 'Arm', 16: 'Astro', 17: 'Asus', 18: 'Asusu', 19: 'Avaya', 20: 'Aya', 21: 'BBK', 22: 'BCP', 23: 'BEATS BY DRE', 24: 'BLACKBERRY', 25: 'BOSE', 26: 'BTC', 27: 'Bang & Olufsen', 28: 'Bayern', 29: 'Bazooka', 30: 'Beacon', 31: 'Blue Star', 32: 'Boses', 33: 'Breaker', 34: 'CCE', 35: 'Calistoga', 36: 'Calumet', 37: 'Casio', 38: 'Cisco Systems', 39: 'Clarion', 40: 'Compact', 41: 'Connector', 42: 'Contax', 43: 'Contec', 44: 'Contour', 45: 'Cooke', 46: 'Currys', 47: 'Cybertron', 48: 'D-Link', 49: 'DELONGHI', 50: 'DEVOLO', 51: 'Daewoo Electronics', 52: 'Dawa', 53: 'Dayton', 54: 'Dell', 55: 'Denver', 56: 'Digital', 57: 'Dimension', 58: 'ECS', 59: 'El Dorado', 60: 'Epson', 61: 'Fram', 62: 'Fujifilm', 63: 'Fujitsu', 64: 'Gateway', 65: 'Genius', 66: 'GoPro', 67: 'GoldStar', 68: 'Gorenje', 69: 'Grundig', 70: 'HCL', 71: 'HEC', 72: 'HTC', 73: 'Haier', 74: 'Havells', 75: 'Hewlett-Packard', 76: 'High Point', 77: 'Hisense', 78: 'Hitachi', 79: 'Honeywell', 80: 'Hughes & Kettner', 81: 'Hypson', 82: 'IBM', 83: 'IFR', 84: 'IQinVision', 85: 'Iiyama', 86: 'Ilford Photo', 87: 'Intel', 88: 'JL Audio', 89: 'Jenoptik', 90: 'KEF', 91: 'KINGSTON', 92: 'Kapsch', 93: 'Kenko', 94: 'Kicker', 95: 'Kodak', 96: 'Konica Minolta', 97: 'LG', 98: 'LIVESCRIBE', 99: 'Leadtek', 100: 'Leica', 101: 'Lenovo', 102: 'Leupold', 103: 'LifeSize', 104: 'Lite-On', 105: 'Logitech', 106: 'Luxgen', 107: 'MOPHIE', 108: 'MSI', 109: 'Magnafon', 110: 'Mamiya', 111: \"Man O' War\", 112: 'Marshall', 113: 'MediaTek', 114: 'Medion', 115: 'Meopta', 116: 'Merrell', 117: 'Metz', 118: 'Microsoft', 119: 'Minolta', 120: 'Mobotix', 121: 'Mud & Bugs', 122: 'Multitech', 123: 'National', 124: 'Nikon', 125: 'Olympus', 126: 'Orbit', 127: 'Panasonic', 128: 'Pantech', 129: 'Pathe', 130: 'Pentium', 131: 'Phase One', 132: 'Philco', 133: 'Philips', 134: 'Pioneer', 135: 'Planar', 136: 'Polaroid', 137: 'Premier', 138: 'Prima', 139: 'ProLine', 140: 'Punch', 141: 'RBM', 142: 'RCA', 143: 'Ricoh', 144: 'SAGEMCOM', 145: 'SEG', 146: 'SPC', 147: 'SPECK', 148: 'SVA', 149: 'Sakura', 150: 'Sampo', 151: 'San', 152: 'Sansui', 153: 'Santa Rosa', 154: 'Sanyo', 155: 'Sea & Sea', 156: 'Seitz', 157: 'Sharp', 158: 'Sharp Corporation', 159: 'Sibelius', 160: 'Sinar', 161: 'Sinclair', 162: 'Sony Ericsson', 163: 'Start', 164: 'Suzuki', 165: 'TCL', 166: 'TMA', 167: 'TMB', 168: 'Tab', 169: 'Technics', 170: 'Teleavia', 171: 'Telefunken', 172: 'Teletech', 173: 'Thomson', 174: 'Toshiba', 175: 'Transcend', 176: 'Trust', 177: 'Tunes', 178: 'Universum', 179: 'VIT', 180: 'Vestel', 181: 'Vim', 182: 'Vive', 183: 'Walton', 184: 'eMachines', 185: 'hp', 186: 'huawei', 187: 'motorola', 188: 'oppo', 189: 'samsung', 190: 'sony'}\n",
      "obb: None\n",
      "orig_img: array([[[255, 255, 255],\n",
      "        [255, 255, 255],\n",
      "        [255, 255, 255],\n",
      "        ...,\n",
      "        [255, 255, 255],\n",
      "        [255, 255, 255],\n",
      "        [255, 255, 255]],\n",
      "\n",
      "       [[255, 255, 255],\n",
      "        [255, 255, 255],\n",
      "        [255, 255, 255],\n",
      "        ...,\n",
      "        [255, 255, 255],\n",
      "        [255, 255, 255],\n",
      "        [255, 255, 255]],\n",
      "\n",
      "       [[255, 255, 255],\n",
      "        [255, 255, 255],\n",
      "        [255, 255, 255],\n",
      "        ...,\n",
      "        [255, 255, 255],\n",
      "        [255, 255, 255],\n",
      "        [255, 255, 255]],\n",
      "\n",
      "       ...,\n",
      "\n",
      "       [[255, 255, 255],\n",
      "        [255, 255, 255],\n",
      "        [255, 255, 255],\n",
      "        ...,\n",
      "        [255, 255, 255],\n",
      "        [255, 255, 255],\n",
      "        [255, 255, 255]],\n",
      "\n",
      "       [[255, 255, 255],\n",
      "        [255, 255, 255],\n",
      "        [255, 255, 255],\n",
      "        ...,\n",
      "        [255, 255, 255],\n",
      "        [255, 255, 255],\n",
      "        [255, 255, 255]],\n",
      "\n",
      "       [[255, 255, 255],\n",
      "        [255, 255, 255],\n",
      "        [255, 255, 255],\n",
      "        ...,\n",
      "        [255, 255, 255],\n",
      "        [255, 255, 255],\n",
      "        [255, 255, 255]]], dtype=uint8)\n",
      "orig_shape: (256, 256)\n",
      "path: 'image0.jpg'\n",
      "probs: ultralytics.engine.results.Probs object\n",
      "save_dir: None\n",
      "speed: {'preprocess': 36.7739200592041, 'inference': 23.6818790435791, 'postprocess': 0.21505355834960938}\n"
     ]
    },
    {
     "data": {
      "image/png": "[encoded data removed]",
      "text/plain": [
       "<Figure size 640x480 with 1 Axes>"
      ]
     },
     "metadata": {},
     "output_type": "display_data"
    }
   ],
   "source": [
    "image = cv2.imread(image_path)\n",
    "\n",
    "# Convert to RGB for proper color display\n",
    "image_rgb = cv2.cvtColor(image, cv2.COLOR_BGR2RGB)\n",
    "\n",
    "# Run inference\n",
    "results = model(image_rgb, verbose=False)  # Inference on the image\n",
    "labels = results[0].names  # Class labels\n",
    "print(results[0])\n",
    "\n",
    "# Get probabilities and convert to numpy array\n",
    "probs = results[0].probs\n",
    "probs_np = probs.data.cpu().numpy()\n",
    "\n",
    "# Handle if the array is 0-dimensional\n",
    "if probs_np.ndim == 0:\n",
    "    confidence = probs_np.item()  # Extracts the value from the 0-d array\n",
    "else:\n",
    "    value = np.argmax(probs_np)  # Predicted class index\n",
    "    confidence = np.max(probs_np)  # Maximum probability (confidence)\n",
    "\n",
    "# Get the predicted label\n",
    "predicted_label = labels[value]\n",
    "\n",
    "# Display confidence and label on the image\n",
    "text = f\"{predicted_label}: {confidence:.2f}\"\n",
    "\n",
    "# Choose font, size, color, and position for the text\n",
    "font = cv2.FONT_HERSHEY_SIMPLEX\n",
    "font_scale = 1\n",
    "color = (0, 255, 0)  # Green color\n",
    "thickness = 1\n",
    "position = (10, 30)  # Top-left corner of the image\n",
    "\n",
    "# Overlay the text on the image\n",
    "image_with_text = cv2.putText(image_rgb, text, position, font, font_scale, color, thickness, cv2.LINE_AA)\n",
    "\n",
    "# Display the image with the label and confidence\n",
    "plt.imshow(image_with_text)\n",
    "plt.axis('off')  # Hide the axis\n",
    "plt.show()"
   ]
  },
  {
   "cell_type": "code",
   "execution_count": 21,
   "id": "e5605aff-4112-46e5-8033-0251a63c4a71",
   "metadata": {},
   "outputs": [
    {
     "name": "stdout",
     "output_type": "stream",
     "text": [
      "\n",
      "image 1/1 /Users/mohithreddy/Education/Projects/YOLO/Data/test/GoPro/1.jpg: 256x256 GoPro 1.00, oppo 0.00, Phase One 0.00, Orbit 0.00, SPC 0.00, 31.1ms\n",
      "Speed: 46.3ms preprocess, 31.1ms inference, 0.1ms postprocess per image at shape (1, 3, 256, 256)\n",
      "Results saved to \u001b[1mruns/classify/predict\u001b[0m\n"
     ]
    },
    {
     "ename": "AttributeError",
     "evalue": "'NoneType' object has no attribute 'xyxy'",
     "output_type": "error",
     "traceback": [
      "\u001b[0;31m---------------------------------------------------------------------------\u001b[0m",
      "\u001b[0;31mAttributeError\u001b[0m                            Traceback (most recent call last)",
      "Cell \u001b[0;32mIn[21], line 4\u001b[0m\n\u001b[1;32m      1\u001b[0m results \u001b[38;5;241m=\u001b[39m model_predict\u001b[38;5;241m.\u001b[39mpredict(source\u001b[38;5;241m=\u001b[39mimage_path, save\u001b[38;5;241m=\u001b[39m\u001b[38;5;28;01mTrue\u001b[39;00m)\n\u001b[1;32m      2\u001b[0m \u001b[38;5;28;01mfor\u001b[39;00m result \u001b[38;5;129;01min\u001b[39;00m results:\n\u001b[1;32m      3\u001b[0m     \u001b[38;5;66;03m# Get the bounding boxes, class IDs, and confidence scores\u001b[39;00m\n\u001b[0;32m----> 4\u001b[0m     boxes \u001b[38;5;241m=\u001b[39m result\u001b[38;5;241m.\u001b[39mboxes\u001b[38;5;241m.\u001b[39mxyxy  \u001b[38;5;66;03m# Bounding boxes in [x1, y1, x2, y2] format\u001b[39;00m\n\u001b[1;32m      5\u001b[0m     confidences \u001b[38;5;241m=\u001b[39m result\u001b[38;5;241m.\u001b[39mboxes\u001b[38;5;241m.\u001b[39mconf  \u001b[38;5;66;03m# Confidence scores\u001b[39;00m\n\u001b[1;32m      6\u001b[0m     class_ids \u001b[38;5;241m=\u001b[39m result\u001b[38;5;241m.\u001b[39mboxes\u001b[38;5;241m.\u001b[39mcls  \u001b[38;5;66;03m# Class IDs (index of the predicted class)\u001b[39;00m\n",
      "\u001b[0;31mAttributeError\u001b[0m: 'NoneType' object has no attribute 'xyxy'"
     ]
    }
   ],
   "source": [
    "results = model_predict.predict(source=image_path, save=True)\n"
   ]
  },
  {
   "cell_type": "code",
   "execution_count": null,
   "id": "33cf8c74-f297-4cc5-ae23-5b6b4ff76962",
   "metadata": {},
   "outputs": [],
   "source": []
  }
 ],
 "metadata": {
  "kernelspec": {
   "display_name": "Python 3 (ipykernel)",
   "language": "python",
   "name": "python3"
  },
  "language_info": {
   "codemirror_mode": {
    "name": "ipython",
    "version": 3
   },
   "file_extension": ".py",
   "mimetype": "text/x-python",
   "name": "python",
   "nbconvert_exporter": "python",
   "pygments_lexer": "ipython3",
   "version": "3.11.7"
  }
 },
 "nbformat": 4,
 "nbformat_minor": 5
}
